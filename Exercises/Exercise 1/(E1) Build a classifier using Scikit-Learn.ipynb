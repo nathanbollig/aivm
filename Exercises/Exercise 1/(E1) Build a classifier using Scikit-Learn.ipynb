{
  "nbformat": 4,
  "nbformat_minor": 0,
  "metadata": {
    "kernelspec": {
      "display_name": "Python 3",
      "language": "python",
      "name": "python3"
    },
    "language_info": {
      "codemirror_mode": {
        "name": "ipython",
        "version": 3
      },
      "file_extension": ".py",
      "mimetype": "text/x-python",
      "name": "python",
      "nbconvert_exporter": "python",
      "pygments_lexer": "ipython3",
      "version": "3.7.0"
    },
    "colab": {
      "name": "(E1) Build a classifier using Scikit-Learn.ipynb",
      "provenance": [],
      "include_colab_link": true
    }
  },
  "cells": [
    {
      "cell_type": "markdown",
      "metadata": {
        "id": "view-in-github",
        "colab_type": "text"
      },
      "source": [
        "<a href=\"https://colab.research.google.com/github/nathanbollig/aivm/blob/main/Exercise%201/(E1)%20Build%20a%20classifier%20using%20Scikit-Learn.ipynb\" target=\"_parent\"><img src=\"https://colab.research.google.com/assets/colab-badge.svg\" alt=\"Open In Colab\"/></a>"
      ]
    },
    {
      "cell_type": "markdown",
      "metadata": {
        "id": "2nNLNzAqxseh"
      },
      "source": [
        "# Building a Classifier using Scikit-Learn\r\n",
        "\r\n",
        "In this programming exercise, you will explore the basic steps of training, testing, and using a machine learning model. The popular software library \"Scikit-Learn\" (or `sklearn`) simplifies each of these tasks. It is often the framework of choice for training ML models that are not neural network-based.\r\n",
        "\r\n",
        "The aim of this exercise is to develop a multiclass (single label) classifier that will identify the type of an animal (mammal, bird, etc.) based on a small number of features describing that animal.\r\n",
        "\r\n",
        "Our first steps will be to set up the workspace, then we will load the data and examine it."
      ]
    },
    {
      "cell_type": "markdown",
      "metadata": {
        "id": "s-sWfHEw0DnP"
      },
      "source": [
        "## Setup\r\n",
        "\r\n",
        "We first import software libraries into our Python session. Generally, you need to install these libraries first before you are able to import them. In the Colab environment, the libraries are already installed and ready to be imported."
      ]
    },
    {
      "cell_type": "code",
      "metadata": {
        "id": "VuhTMHUPzfiL"
      },
      "source": [
        "import pandas as pd"
      ],
      "execution_count": 2,
      "outputs": []
    },
    {
      "cell_type": "markdown",
      "metadata": {
        "id": "vrEsQTcn0IB0"
      },
      "source": [
        "## Load and explore the animal dataset\r\n",
        "\r\n",
        "The code below downloads the dataset onto the virtual machine running this Colab."
      ]
    },
    {
      "cell_type": "code",
      "metadata": {
        "id": "zleyIp8P0HbZ",
        "outputId": "3777bba9-47ac-4e2a-b874-b2981ce1a5e2",
        "colab": {
          "base_uri": "https://localhost:8080/"
        }
      },
      "source": [
        "!gdown --id 1kzUc2NgLHwZCv8pgMSguPg5N1T1PpxrA"
      ],
      "execution_count": 4,
      "outputs": [
        {
          "output_type": "stream",
          "text": [
            "Downloading...\n",
            "From: https://drive.google.com/uc?id=1kzUc2NgLHwZCv8pgMSguPg5N1T1PpxrA\n",
            "To: /content/BNG_zoo.csv\n",
            "100MB [00:00, 241MB/s] \n"
          ],
          "name": "stdout"
        }
      ]
    },
    {
      "cell_type": "markdown",
      "metadata": {
        "id": "fNkzK8oZ1KjB"
      },
      "source": [
        "Now we will load the data into a variable called `data`. We use the `pandas` package to do this, which has a number of useful utilities for loading and saving spreadsheets."
      ]
    },
    {
      "cell_type": "code",
      "metadata": {
        "id": "h8z9UNJs1FoG"
      },
      "source": [
        "data = pd.read_csv(\"BNG_zoo.csv\")"
      ],
      "execution_count": 5,
      "outputs": []
    },
    {
      "cell_type": "markdown",
      "metadata": {
        "id": "G_IxQplz1sgI"
      },
      "source": [
        "We can now explore the dataset. How many rows and columns are in it?"
      ]
    },
    {
      "cell_type": "code",
      "metadata": {
        "id": "3iQlBy1o2qs6",
        "outputId": "34df4368-e6b5-4a59-f7e2-d60cea452ac7",
        "colab": {
          "base_uri": "https://localhost:8080/"
        }
      },
      "source": [
        "data.info()"
      ],
      "execution_count": 10,
      "outputs": [
        {
          "output_type": "stream",
          "text": [
            "<class 'pandas.core.frame.DataFrame'>\n",
            "RangeIndex: 1000000 entries, 0 to 999999\n",
            "Data columns (total 18 columns):\n",
            " #   Column    Non-Null Count    Dtype  \n",
            "---  ------    --------------    -----  \n",
            " 0   animal    1000000 non-null  object \n",
            " 1   hair      1000000 non-null  bool   \n",
            " 2   feathers  1000000 non-null  bool   \n",
            " 3   eggs      1000000 non-null  bool   \n",
            " 4   milk      1000000 non-null  bool   \n",
            " 5   airborne  1000000 non-null  bool   \n",
            " 6   aquatic   1000000 non-null  bool   \n",
            " 7   predator  1000000 non-null  bool   \n",
            " 8   toothed   1000000 non-null  bool   \n",
            " 9   backbone  1000000 non-null  bool   \n",
            " 10  breathes  1000000 non-null  bool   \n",
            " 11  venomous  1000000 non-null  bool   \n",
            " 12  fins      1000000 non-null  bool   \n",
            " 13  legs      1000000 non-null  float64\n",
            " 14  tail      1000000 non-null  bool   \n",
            " 15  domestic  1000000 non-null  bool   \n",
            " 16  catsize   1000000 non-null  bool   \n",
            " 17  type      1000000 non-null  object \n",
            "dtypes: bool(15), float64(1), object(2)\n",
            "memory usage: 37.2+ MB\n"
          ],
          "name": "stdout"
        }
      ]
    },
    {
      "cell_type": "markdown",
      "metadata": {
        "id": "s_AaTaMy25vj"
      },
      "source": [
        "There are 17 columns, and each column has 1,000,000 \"non-null\" (meaning non-empty) rows. The above information lists the name of each column and the \"Dtype\" represents the datatype of each column. Most are \"bool\", which stands for Boolean (meaning true or false), except for `legs`, which is float64, meaning it is a decimal number. We will look more closely at the `legs` column in a moment. The `animal` and `type` columns are listed as \"object\", which means the type has not been inferred from the .csv file. In fact, these columns are strings (text).\r\n",
        "\r\n",
        "Next, let's look at the first few rows of the data."
      ]
    },
    {
      "cell_type": "code",
      "metadata": {
        "id": "M39q6Si21rGB",
        "outputId": "63848017-3cc6-4265-94e8-4e097cfd2825",
        "colab": {
          "base_uri": "https://localhost:8080/",
          "height": 206
        }
      },
      "source": [
        "data.head()"
      ],
      "execution_count": 6,
      "outputs": [
        {
          "output_type": "execute_result",
          "data": {
            "text/html": [
              "<div>\n",
              "<style scoped>\n",
              "    .dataframe tbody tr th:only-of-type {\n",
              "        vertical-align: middle;\n",
              "    }\n",
              "\n",
              "    .dataframe tbody tr th {\n",
              "        vertical-align: top;\n",
              "    }\n",
              "\n",
              "    .dataframe thead th {\n",
              "        text-align: right;\n",
              "    }\n",
              "</style>\n",
              "<table border=\"1\" class=\"dataframe\">\n",
              "  <thead>\n",
              "    <tr style=\"text-align: right;\">\n",
              "      <th></th>\n",
              "      <th>animal</th>\n",
              "      <th>hair</th>\n",
              "      <th>feathers</th>\n",
              "      <th>eggs</th>\n",
              "      <th>milk</th>\n",
              "      <th>airborne</th>\n",
              "      <th>aquatic</th>\n",
              "      <th>predator</th>\n",
              "      <th>toothed</th>\n",
              "      <th>backbone</th>\n",
              "      <th>breathes</th>\n",
              "      <th>venomous</th>\n",
              "      <th>fins</th>\n",
              "      <th>legs</th>\n",
              "      <th>tail</th>\n",
              "      <th>domestic</th>\n",
              "      <th>catsize</th>\n",
              "      <th>type</th>\n",
              "    </tr>\n",
              "  </thead>\n",
              "  <tbody>\n",
              "    <tr>\n",
              "      <th>0</th>\n",
              "      <td>herring</td>\n",
              "      <td>False</td>\n",
              "      <td>False</td>\n",
              "      <td>True</td>\n",
              "      <td>False</td>\n",
              "      <td>False</td>\n",
              "      <td>True</td>\n",
              "      <td>True</td>\n",
              "      <td>True</td>\n",
              "      <td>True</td>\n",
              "      <td>False</td>\n",
              "      <td>False</td>\n",
              "      <td>True</td>\n",
              "      <td>0.0</td>\n",
              "      <td>True</td>\n",
              "      <td>False</td>\n",
              "      <td>False</td>\n",
              "      <td>fish</td>\n",
              "    </tr>\n",
              "    <tr>\n",
              "      <th>1</th>\n",
              "      <td>sole</td>\n",
              "      <td>False</td>\n",
              "      <td>False</td>\n",
              "      <td>True</td>\n",
              "      <td>False</td>\n",
              "      <td>False</td>\n",
              "      <td>True</td>\n",
              "      <td>False</td>\n",
              "      <td>True</td>\n",
              "      <td>True</td>\n",
              "      <td>False</td>\n",
              "      <td>False</td>\n",
              "      <td>True</td>\n",
              "      <td>0.0</td>\n",
              "      <td>True</td>\n",
              "      <td>True</td>\n",
              "      <td>False</td>\n",
              "      <td>fish</td>\n",
              "    </tr>\n",
              "    <tr>\n",
              "      <th>2</th>\n",
              "      <td>dolphin</td>\n",
              "      <td>True</td>\n",
              "      <td>False</td>\n",
              "      <td>False</td>\n",
              "      <td>True</td>\n",
              "      <td>False</td>\n",
              "      <td>False</td>\n",
              "      <td>False</td>\n",
              "      <td>True</td>\n",
              "      <td>True</td>\n",
              "      <td>True</td>\n",
              "      <td>False</td>\n",
              "      <td>False</td>\n",
              "      <td>4.0</td>\n",
              "      <td>True</td>\n",
              "      <td>False</td>\n",
              "      <td>True</td>\n",
              "      <td>mammal</td>\n",
              "    </tr>\n",
              "    <tr>\n",
              "      <th>3</th>\n",
              "      <td>moth</td>\n",
              "      <td>False</td>\n",
              "      <td>True</td>\n",
              "      <td>True</td>\n",
              "      <td>False</td>\n",
              "      <td>False</td>\n",
              "      <td>False</td>\n",
              "      <td>True</td>\n",
              "      <td>False</td>\n",
              "      <td>True</td>\n",
              "      <td>True</td>\n",
              "      <td>False</td>\n",
              "      <td>False</td>\n",
              "      <td>2.0</td>\n",
              "      <td>True</td>\n",
              "      <td>False</td>\n",
              "      <td>True</td>\n",
              "      <td>bird</td>\n",
              "    </tr>\n",
              "    <tr>\n",
              "      <th>4</th>\n",
              "      <td>starfish</td>\n",
              "      <td>False</td>\n",
              "      <td>False</td>\n",
              "      <td>False</td>\n",
              "      <td>False</td>\n",
              "      <td>False</td>\n",
              "      <td>True</td>\n",
              "      <td>True</td>\n",
              "      <td>True</td>\n",
              "      <td>True</td>\n",
              "      <td>True</td>\n",
              "      <td>False</td>\n",
              "      <td>True</td>\n",
              "      <td>8.0</td>\n",
              "      <td>False</td>\n",
              "      <td>False</td>\n",
              "      <td>False</td>\n",
              "      <td>amphibian</td>\n",
              "    </tr>\n",
              "  </tbody>\n",
              "</table>\n",
              "</div>"
            ],
            "text/plain": [
              "     animal   hair  feathers   eggs  ...   tail  domestic  catsize       type\n",
              "0   herring  False     False   True  ...   True     False    False       fish\n",
              "1      sole  False     False   True  ...   True      True    False       fish\n",
              "2   dolphin   True     False  False  ...   True     False     True     mammal\n",
              "3      moth  False      True   True  ...   True     False     True       bird\n",
              "4  starfish  False     False  False  ...  False     False    False  amphibian\n",
              "\n",
              "[5 rows x 18 columns]"
            ]
          },
          "metadata": {
            "tags": []
          },
          "execution_count": 6
        }
      ]
    },
    {
      "cell_type": "markdown",
      "metadata": {
        "id": "BfECda-u1zdE"
      },
      "source": [
        "Hopefully you get the idea for what this data represents. Each row represents an animal, whose name appears in the `animal` column. There are 16 additional features, like whether or not it has hair, feathers, produces eggs or milk, whether it flies, lives in water, etc.\r\n",
        "\r\n",
        "The outcome of interest is the animal `type`. Let's see how many distinct values of `type` are in this dataset."
      ]
    },
    {
      "cell_type": "code",
      "metadata": {
        "id": "ktrtl0ZM1xd5",
        "outputId": "69f84b43-0f5d-404d-9ce2-34875fdeb53a",
        "colab": {
          "base_uri": "https://localhost:8080/"
        }
      },
      "source": [
        "data['type'].unique()"
      ],
      "execution_count": 7,
      "outputs": [
        {
          "output_type": "execute_result",
          "data": {
            "text/plain": [
              "array(['fish', 'mammal', 'bird', 'amphibian', 'invertebrate', 'insect',\n",
              "       'reptile'], dtype=object)"
            ]
          },
          "metadata": {
            "tags": []
          },
          "execution_count": 7
        }
      ]
    },
    {
      "cell_type": "markdown",
      "metadata": {
        "id": "b_0M0UCj2ir6"
      },
      "source": [
        "As you can see, the unique types are fish, mammal, bird, amphibian, invertebrate, insect, and reptile.\r\n",
        "\r\n",
        "The goal of our machine learning model will be to predict the type of animal based on the features. In other words, we wish to be able to feed our model the data in all but the rightmost column, and have the model predict the correct `type` based only on features we provide.\r\n",
        "\r\n",
        "Think for a moment: Would you rather come up with a rule-based system for finding the `type`? For example, you may say that \"If milk = TRUE, then type = mammal\". Perhaps other rules are quite evident, like \"If backbone = FALSE, then type = invertebrate\". A complete set of rules, however, may be difficult to write by hand, even for this simple problem. For more complex data, it may often be close to impossible to design rules by hand. The key behind machine learning is that we will not need to tell the machine how to compute the `type` variable for a given input. It will learn to do this by detecting patterns from labeled data."
      ]
    },
    {
      "cell_type": "markdown",
      "metadata": {
        "id": "5GnQSpHW4-Gi"
      },
      "source": [
        "## Data pre-processing\r\n",
        "\r\n",
        "One of the requirements of machine learning is getting the data into a form suitable for training a model. The pre-processing requirements can vary depending on the type of data you are working with and the types of models you seek to perform. There are a few general ideas that are often true, however:\r\n",
        "\r\n",
        "1. You should remove or remedy missing data.\r\n",
        "2. Strings of text should be converted to numeric variables. In particular, labels should be numeric.\r\n",
        "3. Some ML models require standardization of numeric data, i.e. transforming the numbers so that their overall distribution has mean 0 and standard deviation 1.\r\n",
        "4. Removing correlated features.\r\n",
        "\r\n",
        "Not all of these are relevant to this dataset, but let's discuss each point to get some background on what these mean.\r\n"
      ]
    },
    {
      "cell_type": "markdown",
      "metadata": {
        "id": "p0fsUVqq6rGk"
      },
      "source": [
        "### 1. Removing missing (null) data\r\n",
        "\r\n",
        "Many machine learning models cannot be trained when the input data contains missing values. In this case, our dataset has already been prepared so as to have no missing values. (You can see this from the `data.info()` output above, which lists exactly 1,000,000 non-null values for each column in the dataset.) However, if there had been missing values, there would be two main ways of handling this issue:\r\n",
        "\r\n",
        "1. Remove rows with missing values: This is sometimes ok, but notice that their could be some reason why the values are missing. If there is a reason why these values are missing, then by removing them, you could be introducing a sampling bias into the dataset. This may limit your ability to train a model that would perform well on new data.\r\n",
        "\r\n",
        "2. Imputation: The second option, imputation, refers to filling in the missing values. There are many valid ways of doing this. One way is to replace missing values with the average of all values of that variable that are present in the dataset."
      ]
    },
    {
      "cell_type": "markdown",
      "metadata": {
        "id": "gKS11_yi74SW"
      },
      "source": [
        "### 2. Label encoding and removing free text\r\n",
        "\r\n",
        "For many types of machine learning models, the inputs to the model need to be numeric. This means that free text usually needs to be transformed into something else. We will have the opportunity later in the week to study models that primarily process text, but today the main issue is that there are two columns in the dataset (`animal` and `type`) that are free text, and we need to figure out what to do with them.\r\n",
        "\r\n",
        "The `type` column is important because it will be our target outcome, i.e. the variable that the ML model will try to predict. When the target outcome is one of several (in this case, 7) strings, we need to simply replace each occurrence of each string with a particular number. Each asdf becomes a 0, each asf becomes a 1, etc. This is called **label encoding**. \r\n",
        "\r\n",
        "The `animal` column in the dataset also appears to be free-text. In this case, I have chosen to simply remove this column from the dataset, because it is not "
      ]
    },
    {
      "cell_type": "code",
      "metadata": {
        "id": "6dxNh-uX2hEm",
        "outputId": "2fcb7df0-eeae-430b-d0dc-0d5122e6acdb",
        "colab": {
          "base_uri": "https://localhost:8080/"
        }
      },
      "source": [
        "a = data['animal'].unique().tolist()\r\n",
        "a.sort()\r\n",
        "a"
      ],
      "execution_count": 24,
      "outputs": [
        {
          "output_type": "execute_result",
          "data": {
            "text/plain": [
              "['aardvark',\n",
              " 'antelope',\n",
              " 'bass',\n",
              " 'bear',\n",
              " 'boar',\n",
              " 'buffalo',\n",
              " 'calf',\n",
              " 'carp',\n",
              " 'catfish',\n",
              " 'cavy',\n",
              " 'cheetah',\n",
              " 'chicken',\n",
              " 'chub',\n",
              " 'clam',\n",
              " 'crab',\n",
              " 'crayfish',\n",
              " 'crow',\n",
              " 'deer',\n",
              " 'dogfish',\n",
              " 'dolphin',\n",
              " 'dove',\n",
              " 'duck',\n",
              " 'elephant',\n",
              " 'flamingo',\n",
              " 'flea',\n",
              " 'frog',\n",
              " 'fruitbat',\n",
              " 'giraffe',\n",
              " 'girl',\n",
              " 'gnat',\n",
              " 'goat',\n",
              " 'gorilla',\n",
              " 'gull',\n",
              " 'haddock',\n",
              " 'hamster',\n",
              " 'hare',\n",
              " 'hawk',\n",
              " 'herring',\n",
              " 'honeybee',\n",
              " 'housefly',\n",
              " 'kiwi',\n",
              " 'ladybird',\n",
              " 'lark',\n",
              " 'leopard',\n",
              " 'lion',\n",
              " 'lobster',\n",
              " 'lynx',\n",
              " 'mink',\n",
              " 'mole',\n",
              " 'mongoose',\n",
              " 'moth',\n",
              " 'newt',\n",
              " 'octopus',\n",
              " 'opossum',\n",
              " 'oryx',\n",
              " 'ostrich',\n",
              " 'parakeet',\n",
              " 'penguin',\n",
              " 'pheasant',\n",
              " 'pike',\n",
              " 'piranha',\n",
              " 'pitviper',\n",
              " 'platypus',\n",
              " 'polecat',\n",
              " 'pony',\n",
              " 'porpoise',\n",
              " 'puma',\n",
              " 'pussycat',\n",
              " 'raccoon',\n",
              " 'reindeer',\n",
              " 'rhea',\n",
              " 'scorpion',\n",
              " 'seahorse',\n",
              " 'seal',\n",
              " 'sealion',\n",
              " 'seasnake',\n",
              " 'seawasp',\n",
              " 'skimmer',\n",
              " 'skua',\n",
              " 'slowworm',\n",
              " 'slug',\n",
              " 'sole',\n",
              " 'sparrow',\n",
              " 'squirrel',\n",
              " 'starfish',\n",
              " 'stingray',\n",
              " 'swan',\n",
              " 'termite',\n",
              " 'toad',\n",
              " 'tortoise',\n",
              " 'tuatara',\n",
              " 'tuna',\n",
              " 'vampire',\n",
              " 'vole',\n",
              " 'vulture',\n",
              " 'wallaby',\n",
              " 'wasp',\n",
              " 'wolf',\n",
              " 'worm',\n",
              " 'wren']"
            ]
          },
          "metadata": {
            "tags": []
          },
          "execution_count": 24
        }
      ]
    },
    {
      "cell_type": "code",
      "metadata": {
        "id": "qFC18cIE9EOt"
      },
      "source": [
        ""
      ],
      "execution_count": null,
      "outputs": []
    }
  ]
}